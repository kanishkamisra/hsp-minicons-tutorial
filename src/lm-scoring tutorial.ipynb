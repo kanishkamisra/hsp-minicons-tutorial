{
 "cells": [
  {
   "cell_type": "markdown",
   "id": "1d3db2e4",
   "metadata": {},
   "source": [
    "## Eliciting scores from LMs\n",
    "\n",
    "Language models are trained to predict token probabilities, given some input context. This allows us to explore a number of different scoring methods.\n",
    "\n",
    "* token-scoring: the natural ability of LMs -- assigning probabilities to tokens given context\n",
    "* word-scoring: going from tokens (which could be sub-words) to word scores\n",
    "* sequence-scoring: going from tokens/words to full, multi-word sequences \n",
    "* conditional-scoring: computing conditional probabilities of sequences given some input\n",
    "\n",
    "For all these methods, we will consider a range of different scores: probabilities, log-probabilities, surprisals. In the context of sequence probabilities, we will look at differences between summing log-probabilities (equivalent to multiplying probabilities) vs. looking at log-probability per token, to account for the effect of length."
   ]
  },
  {
   "cell_type": "code",
   "execution_count": 1,
   "id": "663e48e6",
   "metadata": {},
   "outputs": [],
   "source": [
    "import torch\n",
    "\n",
    "from minicons import scorer\n",
    "from nltk.tokenize import TweetTokenizer\n",
    "from torch.utils.data import DataLoader"
   ]
  },
  {
   "cell_type": "markdown",
   "id": "5e8aa9f3",
   "metadata": {},
   "source": [
    "### Different types of LMs\n",
    "\n",
    "Autoregressive LMs: `lm.IncrementalLMScorer`\n",
    "\n",
    "Masked LMs: `lm.MaskedLMScorer`"
   ]
  },
  {
   "cell_type": "code",
   "execution_count": 2,
   "id": "71c6bd2c",
   "metadata": {},
   "outputs": [],
   "source": [
    "model_name = \"HuggingFaceTB/SmolLM2-135M\"\n",
    "# model_name = \"gpt2\"\n",
    "# model_name = \"facebook/opt-125m\"\n",
    "\n",
    "# many models do not automatically insert a beggining of \n",
    "# sentence tokens when tokenizing a sequence, even though\n",
    "# they were trained to do so...\n",
    "\n",
    "if \"gpt2\" in model_name or \"pythia\" in model_name or \"SmolLM\" in model_name:\n",
    "    BOS = True\n",
    "else:\n",
    "    BOS = False\n",
    "\n",
    "lm = scorer.IncrementalLMScorer(model_name)"
   ]
  },
  {
   "cell_type": "code",
   "execution_count": 44,
   "id": "b3f25ebe",
   "metadata": {},
   "outputs": [
    {
     "data": {
      "text/plain": [
       "tensor([[-12.3408, -26.3428, -26.3727,  ..., -23.4791, -17.3325, -22.6918],\n",
       "        [-11.9606, -23.8860, -23.8423,  ..., -20.0405, -12.6999, -20.7964]])"
      ]
     },
     "execution_count": 44,
     "metadata": {},
     "output_type": "execute_result"
    }
   ],
   "source": [
    "prefixes = [\n",
    "    \"He caught the pass and scored another touchdown. There was nothing he enjoyed more than a good game of\",\n",
    "    \"The firefighters wanted to have a mascot to live with them at the firehouse. Naturally, they decided it would have to be a\"\n",
    "]\n",
    "\n",
    "dist = lm.next_word_distribution(prefixes)\n",
    "\n",
    "# batch-wise logprobs over the next word\n",
    "dist"
   ]
  },
  {
   "cell_type": "code",
   "execution_count": 45,
   "id": "b993c4c2",
   "metadata": {},
   "outputs": [
    {
     "data": {
      "text/plain": [
       "tensor([4.2262, 6.0277])"
      ]
     },
     "execution_count": 45,
     "metadata": {},
     "output_type": "execute_result"
    }
   ],
   "source": [
    "entropy = (-dist * dist.exp()).sum(1)\n",
    "entropy"
   ]
  },
  {
   "cell_type": "code",
   "execution_count": 53,
   "id": "6cf38363",
   "metadata": {},
   "outputs": [
    {
     "data": {
      "text/plain": [
       "([[0.3232649564743042, 0.021983535960316658, 5.035623689764179e-05],\n",
       "  [0.061017148196697235, 0.04948189854621887, 0.0008991201757453382]],\n",
       " [[1, 6, 844], [1, 2, 160]])"
      ]
     },
     "execution_count": 53,
     "metadata": {},
     "output_type": "execute_result"
    }
   ],
   "source": [
    "# probs and ranks of query words\n",
    "\n",
    "lm.query(\n",
    "    dist, \n",
    "    [[\"football\", \"baseball\", \"monopoly\"], \n",
    "     [\"dog\", \"bear\", \"zebra\"]]\n",
    ")"
   ]
  },
  {
   "cell_type": "markdown",
   "id": "290953d7",
   "metadata": {},
   "source": [
    "### Token Scoring\n",
    "\n",
    "**Input:** I know what the lion devoured at sunrise.\n",
    "\n",
    "**Outputs:** \n",
    "* Probabilities: $p(w_i | w_1, w_2, \\dots, w_{i-1})$\n",
    "* log-probabilities: $\\log p(w_i | w_1, w_2, \\dots, w_{i-1})$\n",
    "* Surprisals: $-\\log p(w_i | w_1, w_2, \\dots, w_{i-1})$\n"
   ]
  },
  {
   "cell_type": "code",
   "execution_count": 48,
   "id": "b6007ba4",
   "metadata": {},
   "outputs": [],
   "source": [
    "sequences = [\n",
    "    \"I know what the lion devoured at sunrise.\", \n",
    "    \"I know that the lion devoured at sunrise.\"\n",
    "]"
   ]
  },
  {
   "cell_type": "markdown",
   "id": "9707f2cf",
   "metadata": {},
   "source": [
    "Probabilities:"
   ]
  },
  {
   "cell_type": "code",
   "execution_count": 49,
   "id": "bba75c5c",
   "metadata": {},
   "outputs": [
    {
     "data": {
      "text/plain": [
       "[[('<|endoftext|>', 0.0),\n",
       "  ('I', 6.193064212799072),\n",
       "  ('Ġknow', 4.064828872680664),\n",
       "  ('Ġwhat', 2.9297256469726562),\n",
       "  ('Ġthe', 2.5732367038726807),\n",
       "  ('Ġlion', 9.888418197631836),\n",
       "  ('Ġdev', 11.566431045532227),\n",
       "  ('oured', 2.2843103408813477),\n",
       "  ('Ġat', 3.8329315185546875),\n",
       "  ('Ġsunrise', 7.398899078369141),\n",
       "  ('.', 1.7576873302459717)],\n",
       " [('<|endoftext|>', 0.0),\n",
       "  ('I', 6.193064212799072),\n",
       "  ('Ġknow', 4.064828872680664),\n",
       "  ('Ġthat', 1.2324095964431763),\n",
       "  ('Ġthe', 2.0393288135528564),\n",
       "  ('Ġlion', 9.423365592956543),\n",
       "  ('Ġdev', 9.49761962890625),\n",
       "  ('oured', 1.1308623552322388),\n",
       "  ('Ġat', 7.301660060882568),\n",
       "  ('Ġsunrise', 9.36835765838623),\n",
       "  ('.', 2.6524205207824707)]]"
      ]
     },
     "execution_count": 49,
     "metadata": {},
     "output_type": "execute_result"
    }
   ],
   "source": [
    "lm.token_score(\n",
    "    sequences, \n",
    "    bos_token=BOS,\n",
    "    prob=False,\n",
    "    surprisal=True,\n",
    "    bow_correction=True\n",
    ")"
   ]
  },
  {
   "cell_type": "markdown",
   "id": "0a254f84",
   "metadata": {},
   "source": [
    "log probabilities/surprisals:"
   ]
  },
  {
   "cell_type": "code",
   "execution_count": 11,
   "id": "c4dcaf94",
   "metadata": {},
   "outputs": [
    {
     "data": {
      "text/plain": [
       "[[('<|endoftext|>', 0.0),\n",
       "  ('I', 5.686635971069336),\n",
       "  ('Ġknow', 4.515291213989258),\n",
       "  ('Ġwhat', 2.960165023803711),\n",
       "  ('Ġthe', 2.5910110473632812),\n",
       "  ('Ġlion', 9.441681861877441),\n",
       "  ('Ġdev', 12.020919799804688),\n",
       "  ('oured', 1.3213729858398438),\n",
       "  ('Ġat', 4.788764953613281),\n",
       "  ('Ġsunrise', 7.406002998352051),\n",
       "  ('.', 1.361612319946289)],\n",
       " [('<|endoftext|>', 0.0),\n",
       "  ('I', 5.686635971069336),\n",
       "  ('Ġknow', 4.515291213989258),\n",
       "  ('Ġthat', 1.2616539001464844),\n",
       "  ('Ġthe', 2.0563831329345703),\n",
       "  ('Ġlion', 9.177278518676758),\n",
       "  ('Ġdev', 9.753374099731445),\n",
       "  ('oured', 1.1199226379394531),\n",
       "  ('Ġat', 7.276799201965332),\n",
       "  ('Ġsunrise', 9.404158592224121),\n",
       "  ('.', 2.3709983825683594)]]"
      ]
     },
     "execution_count": 11,
     "metadata": {},
     "output_type": "execute_result"
    }
   ],
   "source": [
    "lm.token_score(\n",
    "    sequences, \n",
    "    bos_token=BOS,\n",
    "    surprisal=True\n",
    ")"
   ]
  },
  {
   "cell_type": "markdown",
   "id": "c1ff2b91",
   "metadata": {},
   "source": [
    "### Word scoring\n",
    "\n",
    "Same metrics, but logprobs for words that are split into tokens are summed---e.g., `devoured` is split into `dev + oured`. However, here you have to provide the word tokenizer yourself. We will use `nltk`'s `TweetTokenizer()` as an example"
   ]
  },
  {
   "cell_type": "code",
   "execution_count": 12,
   "id": "9f3a5493",
   "metadata": {},
   "outputs": [],
   "source": [
    "word_tokenizer = TweetTokenizer().tokenize"
   ]
  },
  {
   "cell_type": "code",
   "execution_count": 13,
   "id": "977078e9",
   "metadata": {},
   "outputs": [
    {
     "data": {
      "text/plain": [
       "[[('I', 8.204081535339355),\n",
       "  ('know', 6.514188289642334),\n",
       "  ('what', 4.270615577697754),\n",
       "  ('the', 3.7380387783050537),\n",
       "  ('lion', 13.621467590332031),\n",
       "  ('devoured', 19.248859405517578),\n",
       "  ('at', 6.908727645874023),\n",
       "  ('sunrise', 10.684603691101074),\n",
       "  ('.', 1.9643913507461548)],\n",
       " [('I', 8.204081535339355),\n",
       "  ('know', 6.514188289642334),\n",
       "  ('that', 1.8201818466186523),\n",
       "  ('the', 2.966733694076538),\n",
       "  ('lion', 13.24001407623291),\n",
       "  ('devoured', 15.686850547790527),\n",
       "  ('at', 10.498202323913574),\n",
       "  ('sunrise', 13.567333221435547),\n",
       "  ('.', 3.4206275939941406)]]"
      ]
     },
     "execution_count": 13,
     "metadata": {},
     "output_type": "execute_result"
    }
   ],
   "source": [
    "lm.word_score_tokenized(\n",
    "    sequences, \n",
    "    bos_token=BOS, \n",
    "    tokenize_function=word_tokenizer,\n",
    "    surprisal=True,\n",
    "    base_two=True\n",
    ")"
   ]
  },
  {
   "cell_type": "markdown",
   "id": "cf2f23c0",
   "metadata": {},
   "source": [
    "### Sequence scoring\n",
    "\n",
    "**Input:** batch of sentences\n",
    "\n",
    "**Outputs:** scores indicating how likely each sequence is. There are multiple methods for doing this though:\n",
    "\n",
    "* summed log-probs (equivalent to joint probability, computed using the product rule)\n",
    "* log-prob per token"
   ]
  },
  {
   "cell_type": "code",
   "execution_count": 14,
   "id": "a8beb411",
   "metadata": {},
   "outputs": [],
   "source": [
    "sequences = [\n",
    "    \"The keys to the cabinet are on the table.\",\n",
    "    \"The keys to the cabinet is on the table.\"\n",
    "]"
   ]
  },
  {
   "cell_type": "markdown",
   "id": "9b4451e1",
   "metadata": {},
   "source": [
    "log-prob per token (default behavior):"
   ]
  },
  {
   "cell_type": "code",
   "execution_count": 15,
   "id": "f3e311d0",
   "metadata": {},
   "outputs": [
    {
     "data": {
      "text/plain": [
       "[-3.6746392250061035, -4.0424675941467285]"
      ]
     },
     "execution_count": 15,
     "metadata": {},
     "output_type": "execute_result"
    }
   ],
   "source": [
    "lm.sequence_score(sequences, bos_token=BOS)"
   ]
  },
  {
   "cell_type": "markdown",
   "id": "911e8683",
   "metadata": {},
   "source": [
    "summed log-probs:\n",
    "\n",
    "summing is done by using the `reduction` argument, which takes a function"
   ]
  },
  {
   "cell_type": "code",
   "execution_count": 27,
   "id": "678019f2",
   "metadata": {},
   "outputs": [
    {
     "data": {
      "text/plain": [
       "[-36.74639129638672, -40.42467498779297]"
      ]
     },
     "execution_count": 27,
     "metadata": {},
     "output_type": "execute_result"
    }
   ],
   "source": [
    "lm.sequence_score(\n",
    "    sequences, \n",
    "    bos_token=BOS, \n",
    "    reduction=lambda x: x.sum().item()\n",
    ")"
   ]
  },
  {
   "cell_type": "markdown",
   "id": "fa0fae00",
   "metadata": {},
   "source": [
    "Here, the lambda function is a concise way of defining a function, here this is equivalent to taking the torch tensor consisting of the model elicited log-probabilities and reduces it row-wise by summing, and extracting the item (as opposed to keeping it as a `tensor`). For example:"
   ]
  },
  {
   "cell_type": "code",
   "execution_count": 49,
   "id": "3d8dfbd2",
   "metadata": {},
   "outputs": [
    {
     "data": {
      "text/plain": [
       "1.030834"
      ]
     },
     "execution_count": 49,
     "metadata": {},
     "output_type": "execute_result"
    }
   ],
   "source": [
    "x = torch.tensor([0.223234, 0.443257, 0.364343], dtype=torch.double)\n",
    "sum_func = lambda x: x.sum().item()\n",
    "\n",
    "sum_func(x)"
   ]
  },
  {
   "cell_type": "markdown",
   "id": "516dff64",
   "metadata": {},
   "source": [
    "### log-prob of full sequence (summing) vs. log-prob per token (avg)\n",
    "\n",
    "Usually, the two metrics show similar qualitative trends, especially for minimal pair comparisons. However there are certain cases where log-prob per token is a better metric. This is because the summed log prob metric for a sentence might be lower simply because it is longer (contain more tokens)--since it involves a more number of multiplications between word-probabilities, each of which is a number lower than 1.\n",
    "\n",
    "The following pair illustrates this issue:\n",
    "\n",
    "1. These casseroles disgust Mrs. O'leary\n",
    "2. *These casseroles disgusts Kayla"
   ]
  },
  {
   "cell_type": "code",
   "execution_count": 42,
   "id": "d54748bc",
   "metadata": {},
   "outputs": [],
   "source": [
    "stimuli = [\n",
    "    \"These casseroles disgust Mrs. O'leary\", # longer but grammatical\n",
    "    \"These casseroles disgusts Kayla\" # shorter but ungrammatical\n",
    "]"
   ]
  },
  {
   "cell_type": "code",
   "execution_count": 43,
   "id": "b322b96c",
   "metadata": {},
   "outputs": [
    {
     "data": {
      "text/plain": [
       "[-61.54802703857422, -56.2628173828125]"
      ]
     },
     "execution_count": 43,
     "metadata": {},
     "output_type": "execute_result"
    }
   ],
   "source": [
    "# sum\n",
    "lm.sequence_score(\n",
    "    stimuli, \n",
    "    bos_token=BOS, \n",
    "    reduction=lambda x: x.sum().item()\n",
    ")"
   ]
  },
  {
   "cell_type": "code",
   "execution_count": 44,
   "id": "07c98ea2",
   "metadata": {},
   "outputs": [
    {
     "data": {
      "text/plain": [
       "[-6.1548027992248535, -8.037545204162598]"
      ]
     },
     "execution_count": 44,
     "metadata": {},
     "output_type": "execute_result"
    }
   ],
   "source": [
    "lm.sequence_score(stimuli, bos_token=BOS)"
   ]
  },
  {
   "cell_type": "markdown",
   "id": "14f46d65",
   "metadata": {},
   "source": [
    "### Conditional LM scoring\n",
    "\n",
    "This follows the same principle as sequence scoring, but allows you to separate the prefix and the continuation. Like sequence scoring, this method also allows for different reduction methods"
   ]
  },
  {
   "cell_type": "code",
   "execution_count": 50,
   "id": "8e010641",
   "metadata": {},
   "outputs": [],
   "source": [
    "# Lake and Murphy (2023) / Murphy (1988)\n",
    "# \"are cooked in a pie\" is an emergent property of sliced apples\n",
    "\n",
    "prefix = [\"Sliced apples\", \"Apples\", \"Sliced things\"]\n",
    "continuation = [\"are cooked in a pie.\"] * 3"
   ]
  },
  {
   "cell_type": "code",
   "execution_count": 51,
   "id": "730fea0e",
   "metadata": {},
   "outputs": [
    {
     "data": {
      "text/plain": [
       "[-3.236760377883911, -3.915409803390503, -3.4075047969818115]"
      ]
     },
     "execution_count": 51,
     "metadata": {},
     "output_type": "execute_result"
    }
   ],
   "source": [
    "lm.conditional_score(prefix, continuation, bos_token=BOS)"
   ]
  },
  {
   "cell_type": "code",
   "execution_count": null,
   "id": "646476ea",
   "metadata": {},
   "outputs": [],
   "source": []
  }
 ],
 "metadata": {
  "kernelspec": {
   "display_name": "Python 3 (ipykernel)",
   "language": "python",
   "name": "python3"
  },
  "language_info": {
   "codemirror_mode": {
    "name": "ipython",
    "version": 3
   },
   "file_extension": ".py",
   "mimetype": "text/x-python",
   "name": "python",
   "nbconvert_exporter": "python",
   "pygments_lexer": "ipython3",
   "version": "3.10.10"
  }
 },
 "nbformat": 4,
 "nbformat_minor": 5
}
