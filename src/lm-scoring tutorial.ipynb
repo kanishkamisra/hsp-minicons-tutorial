{
 "cells": [
  {
   "cell_type": "markdown",
   "id": "f139cc93",
   "metadata": {},
   "source": [
    "## Eliciting scores from LMs\n",
    "\n",
    "Language models are trained to predict token probabilities, given some input context. This allows us to explore a number of different scoring methods.\n",
    "\n",
    "* token-scoring: the natural ability of LMs -- assigning probabilities to tokens given context\n",
    "* word-scoring: going from tokens (which could be sub-words) to word scores\n",
    "* sequence-scoring: going from tokens/words to full, multi-word sequences \n",
    "* conditional-scoring: computing conditional probabilities of sequences given some input\n",
    "\n",
    "For all these methods, we will consider a range of different scores: probabilities, log-probabilities, surprisals. In the context of sequence probabilities, we will look at differences between summing log-probabilities (equivalent to multiplying probabilities) vs. looking at log-probability per token, to account for the effect of length."
   ]
  },
  {
   "cell_type": "code",
   "execution_count": 20,
   "id": "63bf3a77",
   "metadata": {},
   "outputs": [],
   "source": [
    "import torch\n",
    "\n",
    "from minicons import scorer\n",
    "from nltk.tokenize import TweetTokenizer\n",
    "from torch.utils.data import DataLoader"
   ]
  },
  {
   "cell_type": "markdown",
   "id": "db094098",
   "metadata": {},
   "source": [
    "### Different types of LMs\n",
    "\n",
    "Autoregressive LMs: `lm.IncrementalLMScorer`\n",
    "\n",
    "Masked LMs: `lm.MaskedLMScorer`"
   ]
  },
  {
   "cell_type": "code",
   "execution_count": 2,
   "id": "7b492415",
   "metadata": {},
   "outputs": [],
   "source": [
    "model_name = \"HuggingFaceTB/SmolLM2-135M\"\n",
    "# model_name = \"gpt2\"\n",
    "# model_name = \"facebook/opt-125m\"\n",
    "\n",
    "# many models do not automatically insert a beggining of \n",
    "# sentence tokens when tokenizing a sequence, even though\n",
    "# they were trained to do so...\n",
    "\n",
    "if \"gpt2\" in model_name or \"pythia\" in model_name or \"SmolLM\" in model_name:\n",
    "    BOS = True\n",
    "else:\n",
    "    BOS = False\n",
    "\n",
    "lm = scorer.IncrementalLMScorer(model_name)"
   ]
  },
  {
   "cell_type": "markdown",
   "id": "eaefac73",
   "metadata": {},
   "source": [
    "### Token Scoring\n",
    "\n",
    "**Input:** I know what the lion devoured at sunrise.\n",
    "\n",
    "**Outputs:** \n",
    "* Probabilities: $p(w_i | w_1, w_2, \\dots, w_{i-1})$\n",
    "* log-probabilities: $\\log p(w_i | w_1, w_2, \\dots, w_{i-1})$\n",
    "* Surprisals: $-\\log p(w_i | w_1, w_2, \\dots, w_{i-1})$\n"
   ]
  },
  {
   "cell_type": "code",
   "execution_count": 3,
   "id": "03bbbf37",
   "metadata": {},
   "outputs": [],
   "source": [
    "sequences = [\n",
    "    \"I know what the lion devoured at sunrise.\", \n",
    "    \"I know that the lion devoured at sunrise.\"\n",
    "]"
   ]
  },
  {
   "cell_type": "markdown",
   "id": "1b6ab2dd",
   "metadata": {},
   "source": [
    "Probabilities:"
   ]
  },
  {
   "cell_type": "code",
   "execution_count": 5,
   "id": "788f3efa",
   "metadata": {},
   "outputs": [
    {
     "data": {
      "text/plain": [
       "[[('<|endoftext|>', 0.0),\n",
       "  ('I', 0.0020435552578419447),\n",
       "  ('Ġknow', 0.017165927216410637),\n",
       "  ('Ġwhat', 0.05341168865561485),\n",
       "  ('Ġthe', 0.07628822326660156),\n",
       "  ('Ġlion', 5.075917215435766e-05),\n",
       "  ('Ġdev', 9.479006621404551e-06),\n",
       "  ('oured', 0.10184427350759506),\n",
       "  ('Ġat', 0.021646056324243546),\n",
       "  ('Ġsunrise', 0.0006119263707660139),\n",
       "  ('.', 0.1724432110786438)],\n",
       " [('<|endoftext|>', 0.0),\n",
       "  ('I', 0.0020435552578419447),\n",
       "  ('Ġknow', 0.017165927216410637),\n",
       "  ('Ġthat', 0.2915891110897064),\n",
       "  ('Ġthe', 0.13011601567268372),\n",
       "  ('Ġlion', 8.081357373157516e-05),\n",
       "  ('Ġdev', 7.503021333832294e-05),\n",
       "  ('oured', 0.32275477051734924),\n",
       "  ('Ġat', 0.0006744185811839998),\n",
       "  ('Ġsunrise', 8.538350084563717e-05),\n",
       "  ('.', 0.07048039138317108)]]"
      ]
     },
     "execution_count": 5,
     "metadata": {},
     "output_type": "execute_result"
    }
   ],
   "source": [
    "lm.token_score(\n",
    "    sequences, \n",
    "    bos_token=BOS,\n",
    "    prob=True,\n",
    "    bow_correction=True\n",
    ")"
   ]
  },
  {
   "cell_type": "markdown",
   "id": "c0b64134",
   "metadata": {},
   "source": [
    "log probabilities/surprisals:"
   ]
  },
  {
   "cell_type": "code",
   "execution_count": 11,
   "id": "15bd12f9",
   "metadata": {},
   "outputs": [
    {
     "data": {
      "text/plain": [
       "[[('<|endoftext|>', 0.0),\n",
       "  ('I', 5.686635971069336),\n",
       "  ('Ġknow', 4.515291213989258),\n",
       "  ('Ġwhat', 2.960165023803711),\n",
       "  ('Ġthe', 2.5910110473632812),\n",
       "  ('Ġlion', 9.441681861877441),\n",
       "  ('Ġdev', 12.020919799804688),\n",
       "  ('oured', 1.3213729858398438),\n",
       "  ('Ġat', 4.788764953613281),\n",
       "  ('Ġsunrise', 7.406002998352051),\n",
       "  ('.', 1.361612319946289)],\n",
       " [('<|endoftext|>', 0.0),\n",
       "  ('I', 5.686635971069336),\n",
       "  ('Ġknow', 4.515291213989258),\n",
       "  ('Ġthat', 1.2616539001464844),\n",
       "  ('Ġthe', 2.0563831329345703),\n",
       "  ('Ġlion', 9.177278518676758),\n",
       "  ('Ġdev', 9.753374099731445),\n",
       "  ('oured', 1.1199226379394531),\n",
       "  ('Ġat', 7.276799201965332),\n",
       "  ('Ġsunrise', 9.404158592224121),\n",
       "  ('.', 2.3709983825683594)]]"
      ]
     },
     "execution_count": 11,
     "metadata": {},
     "output_type": "execute_result"
    }
   ],
   "source": [
    "lm.token_score(\n",
    "    sequences, \n",
    "    bos_token=BOS,\n",
    "    surprisal=True\n",
    ")"
   ]
  },
  {
   "cell_type": "markdown",
   "id": "c419d609",
   "metadata": {},
   "source": [
    "### Word scoring\n",
    "\n",
    "Same metrics, but logprobs for words that are split into tokens are summed---e.g., `devoured` is split into `dev + oured`. However, here you have to provide the word tokenizer yourself. We will use `nltk`'s `TweetTokenizer()` as an example"
   ]
  },
  {
   "cell_type": "code",
   "execution_count": 12,
   "id": "1709b052",
   "metadata": {},
   "outputs": [],
   "source": [
    "word_tokenizer = TweetTokenizer().tokenize"
   ]
  },
  {
   "cell_type": "code",
   "execution_count": 13,
   "id": "e0c8d80f",
   "metadata": {},
   "outputs": [
    {
     "data": {
      "text/plain": [
       "[[('I', 8.204081535339355),\n",
       "  ('know', 6.514188289642334),\n",
       "  ('what', 4.270615577697754),\n",
       "  ('the', 3.7380387783050537),\n",
       "  ('lion', 13.621467590332031),\n",
       "  ('devoured', 19.248859405517578),\n",
       "  ('at', 6.908727645874023),\n",
       "  ('sunrise', 10.684603691101074),\n",
       "  ('.', 1.9643913507461548)],\n",
       " [('I', 8.204081535339355),\n",
       "  ('know', 6.514188289642334),\n",
       "  ('that', 1.8201818466186523),\n",
       "  ('the', 2.966733694076538),\n",
       "  ('lion', 13.24001407623291),\n",
       "  ('devoured', 15.686850547790527),\n",
       "  ('at', 10.498202323913574),\n",
       "  ('sunrise', 13.567333221435547),\n",
       "  ('.', 3.4206275939941406)]]"
      ]
     },
     "execution_count": 13,
     "metadata": {},
     "output_type": "execute_result"
    }
   ],
   "source": [
    "lm.word_score_tokenized(\n",
    "    sequences, \n",
    "    bos_token=BOS, \n",
    "    tokenize_function=word_tokenizer,\n",
    "    surprisal=True,\n",
    "    base_two=True\n",
    ")"
   ]
  },
  {
   "cell_type": "markdown",
   "id": "93d0ecfe",
   "metadata": {},
   "source": [
    "### Sequence scoring\n",
    "\n",
    "**Input:** batch of sentences\n",
    "\n",
    "**Outputs:** scores indicating how likely each sequence is. There are multiple methods for doing this though:\n",
    "\n",
    "* summed log-probs (equivalent to joint probability, computed using the product rule)\n",
    "* log-prob per token"
   ]
  },
  {
   "cell_type": "code",
   "execution_count": 14,
   "id": "62e3b6e6",
   "metadata": {},
   "outputs": [],
   "source": [
    "sequences = [\n",
    "    \"The keys to the cabinet are on the table.\",\n",
    "    \"The keys to the cabinet is on the table.\"\n",
    "]"
   ]
  },
  {
   "cell_type": "markdown",
   "id": "5c844eb9",
   "metadata": {},
   "source": [
    "log-prob per token (default behavior):"
   ]
  },
  {
   "cell_type": "code",
   "execution_count": 15,
   "id": "a6cd93ac",
   "metadata": {},
   "outputs": [
    {
     "data": {
      "text/plain": [
       "[-3.6746392250061035, -4.0424675941467285]"
      ]
     },
     "execution_count": 15,
     "metadata": {},
     "output_type": "execute_result"
    }
   ],
   "source": [
    "lm.sequence_score(sequences, bos_token=BOS)"
   ]
  },
  {
   "cell_type": "markdown",
   "id": "20b179a4",
   "metadata": {},
   "source": [
    "summed log-probs:\n",
    "\n",
    "summing is done by using the `reduction` argument, which takes a function"
   ]
  },
  {
   "cell_type": "code",
   "execution_count": 27,
   "id": "32000bec",
   "metadata": {},
   "outputs": [
    {
     "data": {
      "text/plain": [
       "[-36.74639129638672, -40.42467498779297]"
      ]
     },
     "execution_count": 27,
     "metadata": {},
     "output_type": "execute_result"
    }
   ],
   "source": [
    "lm.sequence_score(\n",
    "    sequences, \n",
    "    bos_token=BOS, \n",
    "    reduction=lambda x: x.sum().item()\n",
    ")"
   ]
  },
  {
   "cell_type": "markdown",
   "id": "0ee37d04",
   "metadata": {},
   "source": [
    "Here, the lambda function is a concise way of defining a function, here this is equivalent to taking the torch tensor consisting of the model elicited log-probabilities and reduces it row-wise by summing, and extracting the item (as opposed to keeping it as a `tensor`). For example:"
   ]
  },
  {
   "cell_type": "code",
   "execution_count": 49,
   "id": "dc84d014",
   "metadata": {},
   "outputs": [
    {
     "data": {
      "text/plain": [
       "1.030834"
      ]
     },
     "execution_count": 49,
     "metadata": {},
     "output_type": "execute_result"
    }
   ],
   "source": [
    "x = torch.tensor([0.223234, 0.443257, 0.364343], dtype=torch.double)\n",
    "sum_func = lambda x: x.sum().item()\n",
    "\n",
    "sum_func(x)"
   ]
  },
  {
   "cell_type": "markdown",
   "id": "cb88551f",
   "metadata": {},
   "source": [
    "### log-prob of full sequence (summing) vs. log-prob per token (avg)\n",
    "\n",
    "Usually, the two metrics show similar qualitative trends, especially for minimal pair comparisons. However there are certain cases where log-prob per token is a better metric. This is because the summed log prob metric for a sentence might be lower simply because it is longer (contain more tokens)--since it involves a more number of multiplications between word-probabilities, each of which is a number lower than 1.\n",
    "\n",
    "The following pair illustrates this issue:\n",
    "\n",
    "1. These casseroles disgust Mrs. O'leary\n",
    "2. *These casseroles disgusts Kayla"
   ]
  },
  {
   "cell_type": "code",
   "execution_count": 42,
   "id": "2562e0b5",
   "metadata": {},
   "outputs": [],
   "source": [
    "stimuli = [\n",
    "    \"These casseroles disgust Mrs. O'leary\", # longer but grammatical\n",
    "    \"These casseroles disgusts Kayla\" # shorter but ungrammatical\n",
    "]"
   ]
  },
  {
   "cell_type": "code",
   "execution_count": 43,
   "id": "9162b72c",
   "metadata": {},
   "outputs": [
    {
     "data": {
      "text/plain": [
       "[-61.54802703857422, -56.2628173828125]"
      ]
     },
     "execution_count": 43,
     "metadata": {},
     "output_type": "execute_result"
    }
   ],
   "source": [
    "# sum\n",
    "lm.sequence_score(stimuli, bos_token=BOS, reduction=lambda x: x.sum().item())"
   ]
  },
  {
   "cell_type": "code",
   "execution_count": 44,
   "id": "205df44a",
   "metadata": {},
   "outputs": [
    {
     "data": {
      "text/plain": [
       "[-6.1548027992248535, -8.037545204162598]"
      ]
     },
     "execution_count": 44,
     "metadata": {},
     "output_type": "execute_result"
    }
   ],
   "source": [
    "lm.sequence_score(stimuli, bos_token=BOS)"
   ]
  },
  {
   "cell_type": "markdown",
   "id": "192a11e3",
   "metadata": {},
   "source": [
    "### Conditional LM scoring\n",
    "\n",
    "This follows the same principle as sequence scoring, but allows you to separate the prefix and the continuation. Like sequence scoring, this method also allows for different reduction methods"
   ]
  },
  {
   "cell_type": "code",
   "execution_count": 50,
   "id": "1788b5e3",
   "metadata": {},
   "outputs": [],
   "source": [
    "# Lake and Murphy (2023) / Murphy (1988)\n",
    "# \"are cooked in a pie\" is an emergent property of sliced apples\n",
    "\n",
    "prefix = [\"Sliced apples\", \"Apples\", \"Sliced things\"]\n",
    "continuation = [\"are cooked in a pie.\"] * 3"
   ]
  },
  {
   "cell_type": "code",
   "execution_count": 51,
   "id": "264221bb",
   "metadata": {},
   "outputs": [
    {
     "data": {
      "text/plain": [
       "[-3.236760377883911, -3.915409803390503, -3.4075047969818115]"
      ]
     },
     "execution_count": 51,
     "metadata": {},
     "output_type": "execute_result"
    }
   ],
   "source": [
    "lm.conditional_score(prefix, continuation, bos_token=BOS)"
   ]
  },
  {
   "cell_type": "code",
   "execution_count": null,
   "id": "6ed22dd1",
   "metadata": {},
   "outputs": [],
   "source": []
  }
 ],
 "metadata": {
  "kernelspec": {
   "display_name": "Python 3 (ipykernel)",
   "language": "python",
   "name": "python3"
  },
  "language_info": {
   "codemirror_mode": {
    "name": "ipython",
    "version": 3
   },
   "file_extension": ".py",
   "mimetype": "text/x-python",
   "name": "python",
   "nbconvert_exporter": "python",
   "pygments_lexer": "ipython3",
   "version": "3.10.10"
  }
 },
 "nbformat": 4,
 "nbformat_minor": 5
}
