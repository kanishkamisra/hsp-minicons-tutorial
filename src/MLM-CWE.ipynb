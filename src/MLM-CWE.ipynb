{
 "cells": [
  {
   "cell_type": "code",
   "execution_count": 1,
   "id": "b349f81f",
   "metadata": {},
   "outputs": [
    {
     "name": "stderr",
     "output_type": "stream",
     "text": [
      "/Users/kanishka/miniconda3/lib/python3.12/site-packages/tqdm/auto.py:21: TqdmWarning: IProgress not found. Please update jupyter and ipywidgets. See https://ipywidgets.readthedocs.io/en/stable/user_install.html\n",
      "  from .autonotebook import tqdm as notebook_tqdm\n"
     ]
    }
   ],
   "source": [
    "import torch\n",
    "\n",
    "from minicons import cwe"
   ]
  },
  {
   "cell_type": "code",
   "execution_count": 2,
   "id": "59ffa0d3",
   "metadata": {},
   "outputs": [],
   "source": [
    "def cosine(a: torch.Tensor, b: torch.Tensor, eps =1e-8) -> torch.Tensor:\n",
    "    a_n, b_n = a.norm(dim=1)[:, None], b.norm(dim=1)[:, None]\n",
    "    a_norm = a / torch.max(a_n, eps * torch.ones_like(a_n))\n",
    "    b_norm = b / torch.max(b_n, eps * torch.ones_like(b_n))\n",
    "    sims = torch.mm(a_norm, b_norm.transpose(0, 1))\n",
    "    return sims"
   ]
  },
  {
   "cell_type": "code",
   "execution_count": 3,
   "id": "7d335da5",
   "metadata": {},
   "outputs": [],
   "source": [
    "model = cwe.CWE('bert-base-uncased', device=\"cpu\")"
   ]
  },
  {
   "cell_type": "code",
   "execution_count": 14,
   "id": "61f8bf52",
   "metadata": {},
   "outputs": [],
   "source": [
    "queries = [\n",
    "    (\"There is a fair number of bright stars, both single and double, in Lepus.\", \"fair\"),\n",
    "    (\"Using most or all of a work does not bar a finding of fair use.\", \"fair\"),\n",
    "    (\"The rivalry has had its fair share of fights as well.\", \"fair\")\n",
    "]"
   ]
  },
  {
   "cell_type": "code",
   "execution_count": 15,
   "id": "bde9dec9",
   "metadata": {},
   "outputs": [],
   "source": [
    "layer_embs = model.extract_representation(queries, layer=[2,8])"
   ]
  },
  {
   "cell_type": "code",
   "execution_count": 16,
   "id": "6a5e7333",
   "metadata": {},
   "outputs": [
    {
     "data": {
      "text/plain": [
       "[tensor([[ 1.2002,  1.0760,  0.6308,  ..., -0.6405, -1.1925, -1.4545],\n",
       "         [ 1.2930,  1.4050,  0.1073,  ..., -0.0766, -1.3806, -1.1698],\n",
       "         [ 1.2247,  1.1270,  0.4763,  ..., -0.0422, -1.3762, -1.2325]]),\n",
       " tensor([[ 0.8524,  0.1222,  0.1619,  ..., -0.7295,  0.1747,  0.0786],\n",
       "         [ 0.8999, -0.2127,  0.1966,  ...,  0.2875,  0.1784, -0.4899],\n",
       "         [ 0.6417, -0.6083, -0.1415,  ..., -0.2819, -0.4101, -0.2447]])]"
      ]
     },
     "execution_count": 16,
     "metadata": {},
     "output_type": "execute_result"
    }
   ],
   "source": [
    "layer_embs"
   ]
  },
  {
   "cell_type": "code",
   "execution_count": 17,
   "id": "dadcd141",
   "metadata": {},
   "outputs": [],
   "source": [
    "layer_embs = model.extract_representation(queries, layer='all')"
   ]
  },
  {
   "cell_type": "code",
   "execution_count": 25,
   "id": "f03d9581",
   "metadata": {},
   "outputs": [
    {
     "name": "stdout",
     "output_type": "stream",
     "text": [
      "Layer 0: tensor([1.0000, 0.9374, 0.9580])\n",
      "Layer 8: tensor([1.0000, 0.4051, 0.6927])\n",
      "Layer 11: tensor([1.0000, 0.3901, 0.6451])\n"
     ]
    }
   ],
   "source": [
    "for layer in [0, 8, 11]:\n",
    "    first_sim = cosine(layer_embs[layer], layer_embs[layer])[0]\n",
    "    print(f\"Layer {layer}: {first_sim}\")"
   ]
  },
  {
   "cell_type": "code",
   "execution_count": null,
   "id": "aaac947d",
   "metadata": {},
   "outputs": [],
   "source": []
  }
 ],
 "metadata": {
  "kernelspec": {
   "display_name": "Python 3 (ipykernel)",
   "language": "python",
   "name": "python3"
  },
  "language_info": {
   "codemirror_mode": {
    "name": "ipython",
    "version": 3
   },
   "file_extension": ".py",
   "mimetype": "text/x-python",
   "name": "python",
   "nbconvert_exporter": "python",
   "pygments_lexer": "ipython3",
   "version": "3.12.7"
  }
 },
 "nbformat": 4,
 "nbformat_minor": 5
}
