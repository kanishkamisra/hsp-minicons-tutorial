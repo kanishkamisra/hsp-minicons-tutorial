{
 "cells": [
  {
   "cell_type": "code",
   "execution_count": 1,
   "id": "793df91e-7f92-40f1-a98f-8d63f42f4c18",
   "metadata": {},
   "outputs": [],
   "source": [
    "import csv\n",
    "import os"
   ]
  },
  {
   "cell_type": "code",
   "execution_count": 15,
   "id": "89dbe08f-9444-484f-918c-3546be8db7e6",
   "metadata": {},
   "outputs": [],
   "source": [
    "fk1999_raw = []\n",
    "with open(\"../data/concatstim\", \"r\") as f:\n",
    "    for line in f:\n",
    "        fk1999_raw.append(line)\n",
    "\n",
    "fk1999_raw = [x for i, x in enumerate(fk1999_raw) if (i+1) % 3 != 0]\n",
    "fk1999_raw = list(zip(fk1999_raw[::2], fk1999_raw[1::2]))"
   ]
  },
  {
   "cell_type": "code",
   "execution_count": 19,
   "id": "5c035c4c",
   "metadata": {},
   "outputs": [
    {
     "data": {
      "text/plain": [
       "[(1, 2, 3), (4, 5, 6)]"
      ]
     },
     "execution_count": 19,
     "metadata": {},
     "output_type": "execute_result"
    }
   ],
   "source": [
    "u = [1,2,3,4,5,6]\n",
    "\n",
    "list(zip(u[::3], u[1::3], u[2::3]))"
   ]
  },
  {
   "cell_type": "code",
   "execution_count": 45,
   "id": "46237b27",
   "metadata": {},
   "outputs": [],
   "source": [
    "# fk1999_raw\n",
    "fk1999_collapsed = []\n",
    "for item in fk1999_raw:\n",
    "    item1, item2 = item\n",
    "    item1 = item1.strip(\"\\n\")\n",
    "    item2 = item2.strip(\"\\n\")\n",
    "    collapsed = f\"{item1.strip('\\n')} {item2.strip('\\n')}\"\n",
    "    fk1999_collapsed.append(collapsed)\n",
    "\n",
    "fk1999_collapsed = list(zip(fk1999_collapsed[::3], fk1999_collapsed[1::3], fk1999_collapsed[2::3]))"
   ]
  },
  {
   "cell_type": "code",
   "execution_count": 46,
   "id": "66a418b7",
   "metadata": {},
   "outputs": [],
   "source": [
    "# for i, item in enumerate(fk1999_collapsed):\n",
    "for items in fk1999_collapsed:\n",
    "    prefix = os.path.commonprefix(items).strip()\n",
    "    expected, within_category, between_category = [item.replace(prefix, \"\").strip().strip(\".\") for item in items]\n"
   ]
  },
  {
   "cell_type": "code",
   "execution_count": 48,
   "id": "a3de9d9f",
   "metadata": {},
   "outputs": [
    {
     "data": {
      "text/plain": [
       "('The slices of bread never popped up, and they burned to a crisp every time. She sighed, realizing she would have to buy a new',\n",
       " ['toaster', 'blender', 'chandelier'])"
      ]
     },
     "execution_count": 48,
     "metadata": {},
     "output_type": "execute_result"
    }
   ],
   "source": [
    "prefix, continuations"
   ]
  },
  {
   "cell_type": "code",
   "execution_count": null,
   "id": "06db2d53",
   "metadata": {},
   "outputs": [],
   "source": []
  }
 ],
 "metadata": {
  "kernelspec": {
   "display_name": "base",
   "language": "python",
   "name": "python3"
  },
  "language_info": {
   "codemirror_mode": {
    "name": "ipython",
    "version": 3
   },
   "file_extension": ".py",
   "mimetype": "text/x-python",
   "name": "python",
   "nbconvert_exporter": "python",
   "pygments_lexer": "ipython3",
   "version": "3.12.7"
  }
 },
 "nbformat": 4,
 "nbformat_minor": 5
}
