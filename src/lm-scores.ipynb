{
 "cells": [
  {
   "cell_type": "code",
   "execution_count": 1,
   "metadata": {},
   "outputs": [
    {
     "name": "stderr",
     "output_type": "stream",
     "text": [
      "/scratch/miniconda3/envs/dev/lib/python3.11/site-packages/transformers/utils/hub.py:105: FutureWarning: Using `TRANSFORMERS_CACHE` is deprecated and will be removed in v5 of Transformers. Use `HF_HOME` instead.\n",
      "  warnings.warn(\n"
     ]
    }
   ],
   "source": [
    "import utils\n",
    "\n",
    "from minicons import scorer\n",
    "from torch.utils.data import DataLoader\n",
    "from tqdm import tqdm"
   ]
  },
  {
   "cell_type": "code",
   "execution_count": 2,
   "metadata": {},
   "outputs": [],
   "source": [
    "model_name = \"EleutherAI/pythia-2.8b-deduped\"\n",
    "\n",
    "if \"gpt2\" in model_name or \"pythia\" in model_name:\n",
    "    bos_token = True\n",
    "else:\n",
    "    bos_token = False\n",
    "\n",
    "lm = scorer.IncrementalLMScorer(model_name, device=\"cuda:0\")"
   ]
  },
  {
   "cell_type": "code",
   "execution_count": 3,
   "metadata": {},
   "outputs": [],
   "source": [
    "parameters = lm.model.num_parameters()"
   ]
  },
  {
   "cell_type": "code",
   "execution_count": 7,
   "metadata": {},
   "outputs": [],
   "source": [
    "fk1999 = utils.read_csv_dict(\"../data/fk1999-final.csv\")"
   ]
  },
  {
   "cell_type": "code",
   "execution_count": 8,
   "metadata": {},
   "outputs": [],
   "source": [
    "def compute_conditional_scores(prefixes, continuations):\n",
    "    scores = lm.conditional_score(\n",
    "        prefixes,\n",
    "        continuations,\n",
    "        bos_token=bos_token,\n",
    "        bow_correction=True,\n",
    "        reduction=lambda x: -x.sum().item(), # surprisal\n",
    "    )\n",
    "\n",
    "    return scores"
   ]
  },
  {
   "cell_type": "code",
   "execution_count": 9,
   "metadata": {},
   "outputs": [],
   "source": [
    "def run_batches(stimuli, batch_size=16):\n",
    "    batches = DataLoader(stimuli, batch_size=batch_size)\n",
    "\n",
    "    results = []\n",
    "    for batch in tqdm(batches):\n",
    "        prefix = batch[\"prefix\"]\n",
    "        idx = batch[\"item\"]\n",
    "\n",
    "        expected = batch[\"expected\"]\n",
    "        within_category = batch[\"within_category\"]\n",
    "        between_category = batch[\"between_category\"]\n",
    "\n",
    "        dist = lm.next_word_distribution(prefix, bos_token=bos_token).detach().cpu()\n",
    "        entropies = (-1.0 * (dist * dist.exp()).sum(1)).tolist()\n",
    "\n",
    "        expected_scores = compute_conditional_scores(prefix, expected)\n",
    "        within_scores = compute_conditional_scores(prefix, within_category)\n",
    "        between_scores = compute_conditional_scores(prefix, between_category)\n",
    "\n",
    "        for i, entropy, e, w, b in zip(\n",
    "            idx, entropies, expected_scores, within_scores, between_scores\n",
    "        ):\n",
    "            results.append((i, entropy, e, w, b, parameters))\n",
    "\n",
    "    return results"
   ]
  },
  {
   "cell_type": "code",
   "execution_count": 10,
   "metadata": {},
   "outputs": [
    {
     "name": "stderr",
     "output_type": "stream",
     "text": [
      "100%|██████████| 132/132 [00:10<00:00, 12.51it/s]\n"
     ]
    }
   ],
   "source": [
    "results_1 = run_batches(fk1999, 1)"
   ]
  },
  {
   "cell_type": "code",
   "execution_count": null,
   "metadata": {},
   "outputs": [
    {
     "name": "stderr",
     "output_type": "stream",
     "text": [
      "100%|██████████| 3/3 [00:04<00:00,  1.65s/it]\n"
     ]
    }
   ],
   "source": [
    "results_64 = run_batches(fk1999, 64)"
   ]
  },
  {
   "cell_type": "code",
   "execution_count": null,
   "metadata": {},
   "outputs": [
    {
     "data": {
      "text/plain": [
       "[('1',\n",
       "  4.438488960266113,\n",
       "  2.5140509605407715,\n",
       "  9.913602828979492,\n",
       "  7.563915252685547,\n",
       "  2775208960),\n",
       " ('2',\n",
       "  4.929327964782715,\n",
       "  7.043475151062012,\n",
       "  5.667770862579346,\n",
       "  9.051733016967773,\n",
       "  2775208960),\n",
       " ('3',\n",
       "  3.6238369941711426,\n",
       "  1.4791144132614136,\n",
       "  7.839367866516113,\n",
       "  9.950811386108398,\n",
       "  2775208960)]"
      ]
     },
     "execution_count": 14,
     "metadata": {},
     "output_type": "execute_result"
    }
   ],
   "source": [
    "results_64[:3]"
   ]
  },
  {
   "cell_type": "code",
   "execution_count": null,
   "metadata": {},
   "outputs": [],
   "source": []
  }
 ],
 "metadata": {
  "kernelspec": {
   "display_name": "dev",
   "language": "python",
   "name": "python3"
  },
  "language_info": {
   "codemirror_mode": {
    "name": "ipython",
    "version": 3
   },
   "file_extension": ".py",
   "mimetype": "text/x-python",
   "name": "python",
   "nbconvert_exporter": "python",
   "pygments_lexer": "ipython3",
   "version": "3.11.11"
  }
 },
 "nbformat": 4,
 "nbformat_minor": 2
}
