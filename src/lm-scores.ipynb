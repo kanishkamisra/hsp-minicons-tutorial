{
 "cells": [
  {
   "cell_type": "code",
   "execution_count": 1,
   "metadata": {},
   "outputs": [
    {
     "name": "stderr",
     "output_type": "stream",
     "text": [
      "/scratch/miniconda3/envs/dev/lib/python3.11/site-packages/transformers/utils/hub.py:105: FutureWarning: Using `TRANSFORMERS_CACHE` is deprecated and will be removed in v5 of Transformers. Use `HF_HOME` instead.\n",
      "  warnings.warn(\n"
     ]
    }
   ],
   "source": [
    "import utils\n",
    "\n",
    "from minicons import scorer\n",
    "from torch.utils.data import DataLoader\n",
    "from tqdm import tqdm"
   ]
  },
  {
   "cell_type": "code",
   "execution_count": 2,
   "metadata": {},
   "outputs": [],
   "source": [
    "model_name = \"EleutherAI/pythia-2.8b-deduped\"\n",
    "\n",
    "if \"gpt2\" in model_name or \"pythia\" in model_name:\n",
    "    bos_token = True\n",
    "else:\n",
    "    bos_token = False\n",
    "\n",
    "lm = scorer.IncrementalLMScorer(model_name, device=\"cuda:0\")"
   ]
  },
  {
   "cell_type": "code",
   "execution_count": 3,
   "metadata": {},
   "outputs": [],
   "source": [
    "parameters = lm.model.num_parameters()"
   ]
  },
  {
   "cell_type": "code",
   "execution_count": 4,
   "metadata": {},
   "outputs": [],
   "source": [
    "fk1999 = utils.read_csv_dict(\"../data/fk1999-final.csv\")"
   ]
  },
  {
   "cell_type": "code",
   "execution_count": 5,
   "metadata": {},
   "outputs": [
    {
     "data": {
      "text/plain": [
       "[{'item': '1',\n",
       "  'prefix': 'Ann wanted to treat her foreign guests to an all-American pie. She went out in the back yard and picked some',\n",
       "  'expected': 'apples',\n",
       "  'within_category': 'oranges',\n",
       "  'between_category': 'carrots',\n",
       "  'cloze_expected': '0.818',\n",
       "  'constraint': 'high'},\n",
       " {'item': '2',\n",
       "  'prefix': 'Every morning, Jack makes himself a glass of fresh-squeezed juice. He keeps his refrigerator stocked with',\n",
       "  'expected': 'oranges',\n",
       "  'within_category': 'apples',\n",
       "  'between_category': 'tomatoes',\n",
       "  'cloze_expected': '0.6779999999999999',\n",
       "  'constraint': 'low'},\n",
       " {'item': '3',\n",
       "  'prefix': 'Sheila loves the taste of home-made spaghetti sauce. She decided to start growing her own',\n",
       "  'expected': 'tomatoes',\n",
       "  'within_category': 'carrots',\n",
       "  'between_category': 'apples',\n",
       "  'cloze_expected': '0.782',\n",
       "  'constraint': 'low'}]"
      ]
     },
     "execution_count": 5,
     "metadata": {},
     "output_type": "execute_result"
    }
   ],
   "source": [
    "fk1999[:3]"
   ]
  },
  {
   "cell_type": "code",
   "execution_count": 6,
   "metadata": {},
   "outputs": [],
   "source": [
    "def compute_conditional_scores(prefixes, continuations):\n",
    "    scores = lm.conditional_score(\n",
    "        prefixes,\n",
    "        continuations,\n",
    "        bos_token=bos_token,\n",
    "        bow_correction=True,\n",
    "        reduction=lambda x: -x.sum().item(), # surprisal\n",
    "    )\n",
    "\n",
    "    return scores"
   ]
  },
  {
   "cell_type": "code",
   "execution_count": 7,
   "metadata": {},
   "outputs": [],
   "source": [
    "def run_batches(stimuli, batch_size=16, debug=False):\n",
    "    batches = DataLoader(stimuli, batch_size=batch_size)\n",
    "\n",
    "    results = []\n",
    "    for batch in tqdm(batches):\n",
    "        prefix = batch[\"prefix\"]\n",
    "        idx = batch[\"item\"]\n",
    "\n",
    "        expected = batch[\"expected\"]\n",
    "        within_category = batch[\"within_category\"]\n",
    "        between_category = batch[\"between_category\"]\n",
    "\n",
    "        dist = lm.next_word_distribution(prefix, bos_token=bos_token).detach().cpu()\n",
    "        entropies = (-1.0 * (dist * dist.exp()).sum(1)).tolist()\n",
    "\n",
    "        expected_scores = compute_conditional_scores(prefix, expected)\n",
    "        within_scores = compute_conditional_scores(prefix, within_category)\n",
    "        between_scores = compute_conditional_scores(prefix, between_category)\n",
    "\n",
    "        for i, entropy, e, w, b in zip(\n",
    "            idx, entropies, expected_scores, within_scores, between_scores\n",
    "        ):\n",
    "            results.append((i, entropy, e, w, b, parameters))\n",
    "\n",
    "    if debug:\n",
    "        return results, batch\n",
    "    else:\n",
    "        return results"
   ]
  },
  {
   "cell_type": "code",
   "execution_count": 8,
   "metadata": {},
   "outputs": [
    {
     "name": "stderr",
     "output_type": "stream",
     "text": [
      "100%|██████████| 132/132 [00:10<00:00, 12.58it/s]\n"
     ]
    }
   ],
   "source": [
    "results_1 = run_batches(fk1999, 1)"
   ]
  },
  {
   "cell_type": "code",
   "execution_count": 10,
   "metadata": {},
   "outputs": [
    {
     "name": "stderr",
     "output_type": "stream",
     "text": [
      "100%|██████████| 3/3 [00:04<00:00,  1.59s/it]\n"
     ]
    }
   ],
   "source": [
    "# passing debug = True for online demo -- to see whats in a batch\n",
    "results_64, batch = run_batches(fk1999, 64, debug=True)"
   ]
  },
  {
   "cell_type": "code",
   "execution_count": 11,
   "metadata": {},
   "outputs": [
    {
     "data": {
      "text/plain": [
       "[('1',\n",
       "  4.438488960266113,\n",
       "  2.5140507221221924,\n",
       "  9.913602828979492,\n",
       "  7.563915252685547,\n",
       "  2775208960),\n",
       " ('2',\n",
       "  4.929327964782715,\n",
       "  7.043475151062012,\n",
       "  5.667770862579346,\n",
       "  9.051733016967773,\n",
       "  2775208960),\n",
       " ('3',\n",
       "  3.6238369941711426,\n",
       "  1.4791144132614136,\n",
       "  7.839367866516113,\n",
       "  9.950811386108398,\n",
       "  2775208960)]"
      ]
     },
     "execution_count": 11,
     "metadata": {},
     "output_type": "execute_result"
    }
   ],
   "source": [
    "results_64[:3]"
   ]
  },
  {
   "cell_type": "code",
   "execution_count": 12,
   "metadata": {},
   "outputs": [
    {
     "data": {
      "text/plain": [
       "{'item': ['129', '130', '131', '132'],\n",
       " 'prefix': ['Exploring a little cave near his house, Jacob suddenly found himself in the dark. Something seemed to have gone wrong with his',\n",
       "  'The gold and crystals scattered the light around the diningroom, and Walter stared up in awe. He wished that he owned a',\n",
       "  'He put the icecream and the milk in for his shake, but he forgot to put on the cover. Disaster struck when he turned on the',\n",
       "  'The slices of bread never popped up, and they burned to a crisp every time. She sighed, realizing she would have to buy a new'],\n",
       " 'expected': ['flashlight', 'chandelier', 'blender', 'toaster'],\n",
       " 'within_category': ['chandelier', 'flashlight', 'toaster', 'blender'],\n",
       " 'between_category': ['toaster', 'blender', 'flashlight', 'chandelier'],\n",
       " 'cloze_expected': ['0.765', '0.345', '0.96', '0.961'],\n",
       " 'constraint': ['low', 'low', 'high', 'high']}"
      ]
     },
     "execution_count": 12,
     "metadata": {},
     "output_type": "execute_result"
    }
   ],
   "source": [
    "batch"
   ]
  },
  {
   "cell_type": "code",
   "execution_count": null,
   "metadata": {},
   "outputs": [],
   "source": []
  }
 ],
 "metadata": {
  "kernelspec": {
   "display_name": "dev",
   "language": "python",
   "name": "python3"
  },
  "language_info": {
   "codemirror_mode": {
    "name": "ipython",
    "version": 3
   },
   "file_extension": ".py",
   "mimetype": "text/x-python",
   "name": "python",
   "nbconvert_exporter": "python",
   "pygments_lexer": "ipython3",
   "version": "3.11.11"
  }
 },
 "nbformat": 4,
 "nbformat_minor": 2
}
