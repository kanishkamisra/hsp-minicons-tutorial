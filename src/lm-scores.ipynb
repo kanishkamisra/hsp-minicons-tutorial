{
 "cells": [
  {
   "cell_type": "code",
   "execution_count": 1,
   "metadata": {},
   "outputs": [],
   "source": [
    "import utils\n",
    "\n",
    "from minicons import scorer\n",
    "from torch.utils.data import DataLoader\n",
    "from tqdm import tqdm"
   ]
  },
  {
   "cell_type": "code",
   "execution_count": null,
   "metadata": {},
   "outputs": [],
   "source": [
    "model_name = \"facebook/opt-125m\"\n",
    "\n",
    "if \"gpt2\" in model_name or \"pythia\" in model_name:\n",
    "    bos_token = True\n",
    "else:\n",
    "    bos_token = False\n",
    "\n",
    "lm = scorer.IncrementalLMScorer(model, device=\"cpu\")"
   ]
  },
  {
   "cell_type": "code",
   "execution_count": 2,
   "metadata": {},
   "outputs": [],
   "source": [
    "fk1999 = utils.read_csv_dict(\"../data/fk1999-final.csv\")"
   ]
  },
  {
   "cell_type": "code",
   "execution_count": 3,
   "metadata": {},
   "outputs": [
    {
     "data": {
      "application/vnd.jupyter.widget-view+json": {
       "model_id": "3474a03c8c964fa6b30bc2d0cf5c3cda",
       "version_major": 2,
       "version_minor": 0
      },
      "text/plain": [
       "Downloading shards:   0%|          | 0/2 [00:00<?, ?it/s]"
      ]
     },
     "metadata": {},
     "output_type": "display_data"
    },
    {
     "data": {
      "application/vnd.jupyter.widget-view+json": {
       "model_id": "1392b3e70c594b4cbc05a83d093ca378",
       "version_major": 2,
       "version_minor": 0
      },
      "text/plain": [
       "Loading checkpoint shards:   0%|          | 0/2 [00:00<?, ?it/s]"
      ]
     },
     "metadata": {},
     "output_type": "display_data"
    }
   ],
   "source": [
    "# lm = scorer.IncrementalLMScorer(\"kanishka/smolm-autoreg-bpe-babylm-1e-3\", device=\"cuda:0\")\n",
    "lm = scorer.IncrementalLMScorer(\"facebook/opt-6.7b\", device=\"cuda:0\")"
   ]
  },
  {
   "cell_type": "code",
   "execution_count": 4,
   "metadata": {},
   "outputs": [],
   "source": [
    "dist = lm.next_word_distribution(fk1999[3]['prefix'])"
   ]
  },
  {
   "cell_type": "code",
   "execution_count": 5,
   "metadata": {},
   "outputs": [
    {
     "data": {
      "text/plain": [
       "(\"They told the little boy it was Bugs Bunny's favorite food. But he still didn't want to eat his\",\n",
       " ([['vegetables',\n",
       "    'carrots',\n",
       "    'rabbit',\n",
       "    'dinner',\n",
       "    'broccoli',\n",
       "    'lunch',\n",
       "    'carrot',\n",
       "    'favorite',\n",
       "    'veggies',\n",
       "    'peas']],\n",
       "  [[0.10669860243797302,\n",
       "    0.09968535602092743,\n",
       "    0.04900696501135826,\n",
       "    0.0432983860373497,\n",
       "    0.03360813111066818,\n",
       "    0.029452409595251083,\n",
       "    0.02326599881052971,\n",
       "    0.020190617069602013,\n",
       "    0.019667377695441246,\n",
       "    0.013422504998743534]]))"
      ]
     },
     "execution_count": 5,
     "metadata": {},
     "output_type": "execute_result"
    }
   ],
   "source": [
    "fk1999[3]['prefix'], lm.topk(dist, 10)"
   ]
  },
  {
   "cell_type": "code",
   "execution_count": 8,
   "metadata": {},
   "outputs": [],
   "source": [
    "dist = lm.next_word_distribution([fk1999[11]['prefix'], fk1999[10]['prefix'], fk1999[20]['prefix']])"
   ]
  },
  {
   "cell_type": "code",
   "execution_count": 11,
   "metadata": {},
   "outputs": [
    {
     "data": {
      "text/plain": [
       "{'item': '21',\n",
       " 'prefix': 'Everyone toasted the couple on fifty years of marriage. It was the first time some of the children there had ever tasted',\n",
       " 'expected': 'champagne',\n",
       " 'within_category': 'beer',\n",
       " 'between_category': 'coffee',\n",
       " 'cloze_expected': '0.607',\n",
       " 'constraint': 'low'}"
      ]
     },
     "execution_count": 11,
     "metadata": {},
     "output_type": "execute_result"
    }
   ],
   "source": [
    "fk1999[20]"
   ]
  },
  {
   "cell_type": "code",
   "execution_count": 10,
   "metadata": {},
   "outputs": [
    {
     "data": {
      "text/plain": [
       "tensor([4.1910, 6.0449, 4.7394])"
      ]
     },
     "execution_count": 10,
     "metadata": {},
     "output_type": "execute_result"
    }
   ],
   "source": [
    "-1.0 * (dist * dist.exp()).sum(1)"
   ]
  },
  {
   "cell_type": "code",
   "execution_count": 6,
   "metadata": {},
   "outputs": [
    {
     "data": {
      "text/plain": [
       "([[-15.695625305175781, -6.577995300292969, -15.695625305175781],\n",
       "  [-5.581123352050781, -9.129615783691406, -9.67730712890625]],\n",
       " [[23432, 89, 23432], [36, 920, 1429]])"
      ]
     },
     "execution_count": 6,
     "metadata": {},
     "output_type": "execute_result"
    }
   ],
   "source": [
    "# lm.query(dist, queries = [[\"jar\", \"box\", \"polar bear\"], [\"box\", \"jar\", \"button\"]])\n",
    "lm.query(dist, queries=[[\"panda\", \"lion\", \"polar bear\"], [\"box\", \"jar\", \"button\"]], prob=False)"
   ]
  },
  {
   "cell_type": "code",
   "execution_count": 7,
   "metadata": {},
   "outputs": [
    {
     "data": {
      "text/plain": [
       "[-5.922943115234375]"
      ]
     },
     "execution_count": 7,
     "metadata": {},
     "output_type": "execute_result"
    }
   ],
   "source": [
    "lm.conditional_score(fk1999[58]['prefix'], \"polar bear\", reduction=lambda x: x.sum().item())"
   ]
  },
  {
   "cell_type": "code",
   "execution_count": 8,
   "metadata": {},
   "outputs": [
    {
     "data": {
      "text/plain": [
       "[[('H', 0.0),\n",
       "  ('itting', -9.497499465942383),\n",
       "  ('the', -1.4134979248046875),\n",
       "  ('huge', -9.979400634765625),\n",
       "  ('animal', -9.667678833007812),\n",
       "  ('with', -2.8944244384765625),\n",
       "  ('a', -1.373443603515625),\n",
       "  ('tranquil', -7.095909118652344),\n",
       "  ('izer', -0.0666961669921875),\n",
       "  ('dart', -0.7112197875976562),\n",
       "  ('was', -3.6857528686523438),\n",
       "  ('difficult', -4.7639923095703125),\n",
       "  ('in', -4.435646057128906),\n",
       "  ('the', -1.4638900756835938),\n",
       "  ('Arctic', -7.72998046875),\n",
       "  ('winds', -9.886062622070312),\n",
       "  ('.', -1.09564208984375),\n",
       "  ('Eventually', -6.9127197265625),\n",
       "  (',', -0.4878883361816406),\n",
       "  ('however', -3.4646377563476562),\n",
       "  (',', -0.0040283203125),\n",
       "  ('they', -2.7923965454101562),\n",
       "  ('were', -1.8530426025390625),\n",
       "  ('able', -0.276702880859375),\n",
       "  ('to', -0.00384521484375),\n",
       "  ('approach', -7.191925048828125),\n",
       "  ('and', -3.1918716430664062),\n",
       "  ('tag', -6.98077392578125),\n",
       "  ('the', -0.8248367309570312),\n",
       "  ('polar', -5.741172790527344),\n",
       "  ('bear', -0.18177032470703125)]]"
      ]
     },
     "execution_count": 8,
     "metadata": {},
     "output_type": "execute_result"
    }
   ],
   "source": [
    "lm.token_score(fk1999[58]['prefix'] + \" polar bear\")"
   ]
  },
  {
   "cell_type": "code",
   "execution_count": 17,
   "metadata": {},
   "outputs": [
    {
     "data": {
      "text/plain": [
       "2.203711173568351e-06"
      ]
     },
     "execution_count": 17,
     "metadata": {},
     "output_type": "execute_result"
    }
   ],
   "source": [
    "0.5647839903831482 * 3.901865511579672e-06"
   ]
  },
  {
   "cell_type": "code",
   "execution_count": null,
   "metadata": {},
   "outputs": [],
   "source": []
  }
 ],
 "metadata": {
  "kernelspec": {
   "display_name": "Python 3 (ipykernel)",
   "language": "python",
   "name": "python3"
  },
  "language_info": {
   "codemirror_mode": {
    "name": "ipython",
    "version": 3
   },
   "file_extension": ".py",
   "mimetype": "text/x-python",
   "name": "python",
   "nbconvert_exporter": "python",
   "pygments_lexer": "ipython3",
   "version": "3.10.10"
  }
 },
 "nbformat": 4,
 "nbformat_minor": 2
}
